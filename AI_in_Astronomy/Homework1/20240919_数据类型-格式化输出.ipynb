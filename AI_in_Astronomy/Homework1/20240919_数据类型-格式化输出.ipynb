{
 "cells": [
  {
   "cell_type": "markdown",
   "id": "b0d2f9f2-67f1-4851-82f7-5cc601bb431b",
   "metadata": {},
   "source": [
    "# 人工智能笔记一20240919 "
   ]
  },
  {
   "cell_type": "markdown",
   "id": "2b3330c0-3e11-474f-ae1a-e3a5652d90df",
   "metadata": {},
   "source": [
    "# 1 数据的类型\n",
    "python 数据分成两大类，一类是数值型；一类是文本型\n",
    "- 数值型包括：float，int，bool，complex\n",
    "- 文本型包括：str\n",
    "- 空型：None"
   ]
  },
  {
   "cell_type": "code",
   "execution_count": 13,
   "id": "5d99bc4a-f6c7-4c59-8e0e-7c920c81a436",
   "metadata": {},
   "outputs": [
    {
     "name": "stdout",
     "output_type": "stream",
     "text": [
      "<class 'int'>\n",
      "<class 'float'>\n"
     ]
    }
   ],
   "source": [
    "a = 100\n",
    "print(type(a))\n",
    "b = 100.\n",
    "print(type(b))"
   ]
  },
  {
   "cell_type": "markdown",
   "id": "b887a096-4c56-4d0e-a382-de1a212a86a4",
   "metadata": {},
   "source": [
    "### 1.1 利用isinstance 判断数据类型\n"
   ]
  },
  {
   "cell_type": "code",
   "execution_count": 14,
   "id": "917b3c40-8740-4071-8a48-a6d8233ac1c2",
   "metadata": {},
   "outputs": [
    {
     "data": {
      "text/plain": [
       "False"
      ]
     },
     "execution_count": 14,
     "metadata": {},
     "output_type": "execute_result"
    }
   ],
   "source": [
    "isinstance(a,float)"
   ]
  },
  {
   "cell_type": "markdown",
   "id": "c778cf10-56b5-4306-9f7b-2f70f60553ad",
   "metadata": {},
   "source": [
    "### 1.2 对于复数来讲，我们可以用conjugate来得到一个共轭复。"
   ]
  },
  {
   "cell_type": "code",
   "execution_count": 15,
   "id": "6fced427-ac8f-42a0-aca0-84f671d1141b",
   "metadata": {},
   "outputs": [
    {
     "name": "stdout",
     "output_type": "stream",
     "text": [
      "<class 'complex'>\n",
      "<built-in method conjugate of complex object at 0x7f1c7421ffb0>\n",
      "3.0\n",
      "4.0\n"
     ]
    }
   ],
   "source": [
    "z = 3+4.0j  \n",
    "print(type(z))\n",
    "print(z.conjugate)\n",
    "print(z.real)\n",
    "print(z.imag)"
   ]
  },
  {
   "cell_type": "markdown",
   "id": "a5396629-c7ae-42a2-a78a-2c4e8cb3cea9",
   "metadata": {},
   "source": [
    "### 1.3不同类型的转换\n",
    "\n",
    "转换的优先变化顺序\n",
    "- bool(2);\n",
    "- int;\n",
    "- float;\n",
    "- complex\n"
   ]
  },
  {
   "cell_type": "code",
   "execution_count": 16,
   "id": "d9ce1b36-5e92-4872-bdc7-98fad22afc81",
   "metadata": {},
   "outputs": [
    {
     "data": {
      "text/plain": [
       "2"
      ]
     },
     "execution_count": 16,
     "metadata": {},
     "output_type": "execute_result"
    }
   ],
   "source": [
    "a = True\n",
    "b = 1\n",
    "a+b"
   ]
  },
  {
   "cell_type": "code",
   "execution_count": 17,
   "id": "71d6a12b-4adc-4efe-ad45-13b15268ce05",
   "metadata": {},
   "outputs": [
    {
     "name": "stdout",
     "output_type": "stream",
     "text": [
      "True\n",
      "True\n",
      "False\n"
     ]
    }
   ],
   "source": [
    "print(1 == True)\n",
    "print(0 == False)\n",
    "print(2 == True)"
   ]
  },
  {
   "cell_type": "markdown",
   "id": "058f0d3a-1569-4245-9baa-d4a342fbf08a",
   "metadata": {},
   "source": [
    "### 1.4 字符串\n",
    "\"\"\" 多行字符串 \"\"\""
   ]
  },
  {
   "cell_type": "code",
   "execution_count": 18,
   "id": "9edcf694-fe3e-43b2-92a2-0a92aa5a8a55",
   "metadata": {},
   "outputs": [
    {
     "name": "stdout",
     "output_type": "stream",
     "text": [
      "Guangzhou University\n",
      "GuangzhouGuangzhou\n"
     ]
    }
   ],
   "source": [
    "a = \"Guangzhou\"\n",
    "b = \"University\"\n",
    "print(a+\" \"+b)\n",
    "print(a*2)"
   ]
  },
  {
   "cell_type": "code",
   "execution_count": 19,
   "id": "d965473b-8762-4891-843a-680f3c3a5217",
   "metadata": {},
   "outputs": [
    {
     "data": {
      "text/plain": [
       "False"
      ]
     },
     "execution_count": 19,
     "metadata": {},
     "output_type": "execute_result"
    }
   ],
   "source": [
    "\"Zhou\" in a"
   ]
  },
  {
   "cell_type": "markdown",
   "id": "cd6ec40d-4981-4a78-9582-afb64b26f7a8",
   "metadata": {},
   "source": [
    "**序列的分片**\n",
    "\n",
    "除了使用序号来访问某个位置的字符外，还可以使用切片的方式获得从指定序号到某个序号之间的子字符串，同时还提供了跳着选择的方法，切片的语法有如下：\n",
    "```\n",
    "seq[start]\n",
    "seq[start:end]\n",
    "seq[start:end:step]\n",
    "```"
   ]
  },
  {
   "cell_type": "markdown",
   "id": "ffa1b242-7497-45a7-b83f-a4b4490ff174",
   "metadata": {},
   "source": [
    "### 格式化输出\n",
    "\n",
    " - % - C语言类似的输出方式\n",
    " - .format 方式\n",
    " - fString"
   ]
  },
  {
   "cell_type": "markdown",
   "id": "6be0c370-6771-4ed4-b4c7-bef89a2f17ae",
   "metadata": {},
   "source": [
    " ##### %输出\n",
    "\n",
    "- %f ——保留小数点后面六位有效数字 \n",
    "　　%04.3f，0001.000\n",
    "- %e ——保留小数点后面六位有效数字，指数形式输出\n",
    "　　%.3e，保留3位小数位，使用科学计数法\n",
    "- %g ——在保证六位有效数字的前提下，使用小数方式，否则使用科学计数法\n",
    "　　%.3g，保留3位有效数字，使用小数或科学计数法\n"
   ]
  },
  {
   "cell_type": "code",
   "execution_count": 20,
   "id": "b57b8499-135b-4755-8415-5d71bb545714",
   "metadata": {},
   "outputs": [
    {
     "name": "stdout",
     "output_type": "stream",
     "text": [
      "1.110000\n"
     ]
    }
   ],
   "source": [
    "print('%f' % 1.11)  # 默认保留6位小数"
   ]
  },
  {
   "cell_type": "code",
   "execution_count": 21,
   "id": "3a9e44e3-15ab-4e97-81d8-f080f6b98a7a",
   "metadata": {},
   "outputs": [
    {
     "name": "stdout",
     "output_type": "stream",
     "text": [
      "1.110000e+00\n"
     ]
    }
   ],
   "source": [
    "print('%e' % 1.11)  # 默认6位小数，用科学计数法"
   ]
  },
  {
   "cell_type": "code",
   "execution_count": 22,
   "id": "b801624a-0400-4442-a001-24692994abd8",
   "metadata": {},
   "outputs": [
    {
     "name": "stdout",
     "output_type": "stream",
     "text": [
      "1.1e+03\n"
     ]
    }
   ],
   "source": [
    "print('%.2g' % 1111.1111)  # 取2位有效数字，自动转换为科学计数法"
   ]
  },
  {
   "cell_type": "code",
   "execution_count": 53,
   "id": "31827f79-2f3c-4953-88ae-377a4e40f021",
   "metadata": {},
   "outputs": [
    {
     "name": "stdout",
     "output_type": "stream",
     "text": [
      "0001.23457\n",
      "0234.12346\n",
      "0001.23457\n",
      "0234.12346 0001.23457\n",
      "0234.12346\n"
     ]
    }
   ],
   "source": [
    "a =  1.234567890\n",
    "b = 234.12345678\n",
    "print(\"%010.5f\" % a)\n",
    "print(\"%010.5f\" % b)\n",
    "print('{:010.5f}'.format(a))\n",
    "print(\"{1:010.5f} {0:010.5f}\".format(a,b))\n",
    "\n",
    "print(f\"{b:010.5f}\")"
   ]
  },
  {
   "cell_type": "code",
   "execution_count": 42,
   "id": "74339db2-6c8c-41e7-9ba2-5e5d0de18724",
   "metadata": {},
   "outputs": [
    {
     "name": "stdout",
     "output_type": "stream",
     "text": [
      "00001\n"
     ]
    }
   ],
   "source": [
    "print(\"%05d\" % a)"
   ]
  },
  {
   "cell_type": "markdown",
   "id": "cb5bd2a7-6206-4bed-a6c0-9ef98c7ea547",
   "metadata": {},
   "source": [
    "- %s --截取字符串2位\n",
    "%10.2s 10位输出，截取2位字符串"
   ]
  },
  {
   "cell_type": "code",
   "execution_count": 43,
   "id": "2f851928-ef2c-45f5-8694-d4f460169868",
   "metadata": {},
   "outputs": [
    {
     "name": "stdout",
     "output_type": "stream",
     "text": [
      "Gu\n"
     ]
    }
   ],
   "source": [
    "a = \"Guangzhou University\"\n",
    "print(\"%10.2s\" % a)"
   ]
  },
  {
   "cell_type": "markdown",
   "id": "44a03730-d77c-4e30-a311-07b3c15f72eb",
   "metadata": {},
   "source": [
    "homework1"
   ]
  },
  {
   "cell_type": "code",
   "execution_count": 1,
   "id": "81a27b70-8d60-4ab2-8b3c-d3530a05675d",
   "metadata": {},
   "outputs": [
    {
     "name": "stdout",
     "output_type": "stream",
     "text": [
      "019.7386 033.8274 092.0289 096.7544 070.1695 061.0216 041.7305 057.2843 069.2478 022.8876 \n",
      "\n",
      "029.8128 014.4984 088.6763 060.7896 050.4975 087.3495 000.0808 084.9434 042.7954 080.2942 \n",
      "\n",
      "020.1220 047.0863 032.5661 052.3059 036.9533 024.6574 087.9926 039.4894 072.7471 070.0469 \n",
      "\n",
      "023.4919 055.2546 053.6572 067.6102 081.1881 029.5170 098.2733 032.0180 060.8483 083.3800 \n",
      "\n",
      "096.3886 082.3408 077.1744 057.8297 072.3935 035.6491 054.2407 001.3678 010.9538 036.6195 \n",
      "\n",
      "051.5566 056.3948 096.7806 083.8719 008.9269 023.0343 066.4359 090.7115 077.7289 097.1329 \n",
      "\n",
      "003.4295 003.6609 037.8132 080.2130 095.9673 045.4745 004.3045 021.5615 044.4630 012.2290 \n",
      "\n",
      "053.8610 032.4708 052.4530 090.4272 062.8944 031.0787 098.8381 032.9672 016.1663 047.9105 \n",
      "\n",
      "015.8055 064.7417 074.9322 067.4600 092.6532 036.0228 085.0151 001.8002 082.2439 059.5135 \n",
      "\n",
      "089.8929 070.1837 009.5584 074.8288 052.1275 039.7681 014.8797 050.7107 057.4090 068.9572 \n",
      "\n"
     ]
    }
   ],
   "source": [
    "import random\n",
    "\n",
    "i = 1\n",
    "while i<=100:\n",
    "    a = random.uniform(0,100)\n",
    "    print('{:08.4f}'.format(a),end=' ')\n",
    "    if i %10 ==0:\n",
    "        print(\"\\n\")\n",
    "    i +=1"
   ]
  },
  {
   "cell_type": "code",
   "execution_count": null,
   "id": "2528ff48-466f-4922-a62d-850fae173bbe",
   "metadata": {},
   "outputs": [],
   "source": []
  },
  {
   "cell_type": "code",
   "execution_count": null,
   "id": "fd4668a7-dbf3-4067-8f23-d69ac557c117",
   "metadata": {},
   "outputs": [],
   "source": []
  }
 ],
 "metadata": {
  "kernelspec": {
   "display_name": "Python 3 (ipykernel)",
   "language": "python",
   "name": "python3"
  },
  "language_info": {
   "codemirror_mode": {
    "name": "ipython",
    "version": 3
   },
   "file_extension": ".py",
   "mimetype": "text/x-python",
   "name": "python",
   "nbconvert_exporter": "python",
   "pygments_lexer": "ipython3",
   "version": "3.13.0"
  }
 },
 "nbformat": 4,
 "nbformat_minor": 5
}
