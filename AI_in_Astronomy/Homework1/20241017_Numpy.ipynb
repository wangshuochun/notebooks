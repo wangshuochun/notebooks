{
 "cells": [
  {
   "cell_type": "markdown",
   "id": "207d78ef-c9a7-4f1c-bae8-bf47f96f5e99",
   "metadata": {},
   "source": [
    "##  Numpy,Pandas,Matplotlib\n",
    "\n",
    "**科学计算与数据分析**\n",
    "- Numpy，数值计算基础包 -保存数据\n",
    "- SciPy，基于Numpy的科学计算包    \n",
    "- Pandas，Python的数据分析包    -计算统计数据\n",
    "- statsmodels，包含模型、测试和数据挖掘的统计分析包。\n",
    "\n",
    "**可视化库**\n",
    "- Matplotlib，绘制图表的基础图形库  -画图\n",
    "- Seaborn 是 Matplotlib 的高级封装，快速对数据集及其统计结果进行可视化。\n",
    "\n",
    "**机器学习与深度学习**\n",
    "- Scikit-Learn，通用机器学习工具包。\n",
    "- TensorFlow，Google开源的深度学习开源库\n",
    "- PyTorch，Facebook开源的深度学习框架\n",
    "- CNTK，微软开源的深度学习框架"
   ]
  },
  {
   "cell_type": "markdown",
   "id": "8ec90755-cb4d-4a3d-98dd-69aec55c32f1",
   "metadata": {
    "slideshow": {
     "slide_type": "slide"
    }
   },
   "source": [
    "### 1. Numpy\n",
    "\n",
    "\n",
    "**优点**\n",
    " - 运行数据快（%timeit\n",
    "\n",
    "**内容**\n",
    "- `ndarray`，`n-dimensional array object`\n",
    "- `ufunc`是`universal function object`\n",
    "- 常数"
   ]
  },
  {
   "cell_type": "markdown",
   "id": "9a86b619-4e22-4460-b7a6-47b3c1187134",
   "metadata": {},
   "source": [
    "#### 1.1 array创建\n",
    "\n",
    "np.array(列表)\n",
    "- [i for i in range(100)]\n",
    "- [1,2,3.0]  ndarray会将元素升级（同质）\n",
    "- [[3,2,3]，[8,9,8]]  多位\n"
   ]
  },
  {
   "cell_type": "code",
   "execution_count": null,
   "id": "bdd3bcd0-cc0e-4b15-9b9f-158badab8bb4",
   "metadata": {},
   "outputs": [],
   "source": []
  },
  {
   "cell_type": "code",
   "execution_count": 16,
   "id": "7c9acad2-0cba-489b-99c0-9d94d385ebe2",
   "metadata": {},
   "outputs": [
    {
     "name": "stdout",
     "output_type": "stream",
     "text": [
      "[[[21 22]\n",
      "  [25 26]]\n",
      "\n",
      " [[37 38]\n",
      "  [41 42]]]\n",
      "[[[ 0  1  2  3]\n",
      "  [ 4  5  6  7]\n",
      "  [ 8  9 10 11]\n",
      "  [12 13 14 15]]\n",
      "\n",
      " [[16 17 18 19]\n",
      "  [20 21 22 23]\n",
      "  [24 25 26 27]\n",
      "  [28 29 30 31]]\n",
      "\n",
      " [[32 33 34 35]\n",
      "  [36 37 38 39]\n",
      "  [40 41 42 43]\n",
      "  [44 45 46 47]]\n",
      "\n",
      " [[48 49 50 51]\n",
      "  [52 53 54 55]\n",
      "  [56 57 58 59]\n",
      "  [60 61 62 63]]]\n"
     ]
    }
   ],
   "source": [
    "import numpy as np\n",
    "\n",
    "data = np.arange(64)\n",
    "data = data.reshape(4,4,4)  #重新排维度\n",
    "print(data[1:3,1:3,1:3])\n",
    "print(data)"
   ]
  },
  {
   "cell_type": "code",
   "execution_count": 30,
   "id": "fd63e29d-71a3-4c93-9c5f-019e9cae1092",
   "metadata": {},
   "outputs": [
    {
     "name": "stdout",
     "output_type": "stream",
     "text": [
      "[[[  0   1   2   3]\n",
      "  [  4   5   6   7]\n",
      "  [  8   9  10  11]\n",
      "  [ 12  13  14  15]\n",
      "  [ 16  17  18  19]]\n",
      "\n",
      " [[ 20  21  22  23]\n",
      "  [ 24  25  26  27]\n",
      "  [ 28  29  30  31]\n",
      "  [ 32  33  34  35]\n",
      "  [ 36  37  38  39]]\n",
      "\n",
      " [[ 40  41  42  43]\n",
      "  [ 44  45  46  47]\n",
      "  [ 48  49  50  51]\n",
      "  [ 52  53  54  55]\n",
      "  [ 56  57  58  59]]\n",
      "\n",
      " [[ 60  61  62  63]\n",
      "  [ 64  65  66  67]\n",
      "  [ 68  69  70  71]\n",
      "  [ 72  73  74  75]\n",
      "  [ 76  77  78  79]]\n",
      "\n",
      " [[ 80  81  82  83]\n",
      "  [ 84  85  86  87]\n",
      "  [ 88  89  90  91]\n",
      "  [ 92  93  94  95]\n",
      "  [ 96  97  98  99]]\n",
      "\n",
      " [[100 101 102 103]\n",
      "  [104 105 106 107]\n",
      "  [108 109 110 111]\n",
      "  [112 113 114 115]\n",
      "  [116 117 118 119]]]\n",
      "[[[25 26]\n",
      "  [29 30]\n",
      "  [33 34]]\n",
      "\n",
      " [[45 46]\n",
      "  [49 50]\n",
      "  [53 54]]\n",
      "\n",
      " [[65 66]\n",
      "  [69 70]\n",
      "  [73 74]]\n",
      "\n",
      " [[85 86]\n",
      "  [89 90]\n",
      "  [93 94]]]\n"
     ]
    }
   ],
   "source": [
    "import numpy as np\n",
    "\n",
    "data = np.arange(120)\n",
    "data = data.reshape(6,5,4)  ##深、行、列\n",
    "\n",
    "print(data)\n",
    "print(data[1:5,1:4,1:3])"
   ]
  },
  {
   "cell_type": "code",
   "execution_count": null,
   "id": "8b2cb56b-529e-46a7-b349-d98f9873ad9a",
   "metadata": {},
   "outputs": [],
   "source": []
  },
  {
   "cell_type": "markdown",
   "id": "20e299d8-4bf2-41f9-aa26-b9a0e079f41b",
   "metadata": {},
   "source": [
    "## homework:完善画图库 "
   ]
  },
  {
   "cell_type": "code",
   "execution_count": 38,
   "id": "219fbe6d-33fc-4f37-ba4b-c9d21814f4b6",
   "metadata": {},
   "outputs": [
    {
     "data": {
      "image/jpeg": "[encoded data removed]",
      "image/png": "[encoded data removed]",
      "text/plain": [
       "<PIL.Image.Image image mode=RGB size=300x300>"
      ]
     },
     "metadata": {},
     "output_type": "display_data"
    }
   ],
   "source": [
    "import numpy as np\n",
    "from PIL import Image\n",
    "\n",
    "\n",
    "def draw_dot(x,y,color):\n",
    "    im[y,x] = color\n",
    "\n",
    "def draw_line(x1, y1, x2, y2, color):\n",
    "    if x1 == x2:  # 垂直线\n",
    "        for y in range(min(y1, y2), max(y1, y2) + 1):\n",
    "            draw_dot(x1, y, color)\n",
    "    elif y1 == y2:  # 水平线\n",
    "        for x in range(min(x1, x2), max(x1, x2) + 1):\n",
    "            draw_dot(x, y1, color)\n",
    "    else:  # 斜线\n",
    "        for x in range(min(x1, x2), max(x1, x2) + 1):\n",
    "            y = y1 + (y2 - y1) * (x - x1) // (x2 - x1)\n",
    "            draw_dot(x, y, color)\n",
    "    \n",
    "def draw_circle(x0, y0, r, color):\n",
    "    for i in range(360 * 100):  # 使用更多的点来绘制圆\n",
    "        theta = np.radians(i / 100.0)\n",
    "        x = int(np.round(x0 + r * np.cos(theta)))  # 四舍五入\n",
    "        y = int(np.round(y0 + r * np.sin(theta)))  # 四舍五入\n",
    "        draw_dot(x, y, color)\n",
    "        \n",
    "def draw_rect(x1,y1,x2,y2,color):\n",
    "    draw_line(x1,y1,x2,y1,color)\n",
    "    draw_line(x2,y1,x2,y2,color)\n",
    "    draw_line(x2,y2,x1,y2,color)\n",
    "    draw_line(x1,y2,x1,y1,color)\n",
    "\n",
    "\n",
    "def draw_arc(x0, y0, r, start_angle, end_angle, color):\n",
    "    start_rad = np.radians(start_angle)\n",
    "    end_rad = np.radians(end_angle)\n",
    "    \n",
    "    for angle in np.linspace(start_rad, end_rad, 200):\n",
    "        x = int(x0 + r * np.cos(angle))\n",
    "        y = int(y0 + r * np.sin(angle))\n",
    "        draw_dot(x, y, color)\n",
    "\n",
    "def draw_ellipse(x0, y0, a, b, color):\n",
    "    for i in range(360):\n",
    "        theta = np.radians(i)\n",
    "        x = int(x0 + b * np.cos(theta))\n",
    "        y = int(y0 + a * np.sin(theta))\n",
    "        draw_dot(x, y, color)\n",
    "\n",
    "im = np.full((300,300,3),0,dtype= np.uint8)\n",
    "draw_dot(240,40,(0,50,225))\n",
    "draw_rect(50,100,250,200,(0,225,0))\n",
    "#im = np.random.randint(0,255,(100,300,3),dtype = np.uint8)\n",
    "draw_circle(150,150,80,(250,0,0))\n",
    "draw_arc(120,150,20,220,290,(0,0,225))\n",
    "draw_arc(180,150,20,240,310,(0,0,225))\n",
    "draw_arc(150,100,80,50,95,(0,0,225))\n",
    "draw_ellipse(50,250,10,20,(0,0,225))\n",
    "draw_ellipse(250,250,10,20,(0,0,225))\n",
    "\n",
    "im = Image.fromarray(im)\n",
    "display(im)"
   ]
  },
  {
   "cell_type": "code",
   "execution_count": 37,
   "id": "03e9844e-efce-499c-911f-932d26285342",
   "metadata": {},
   "outputs": [
    {
     "data": {
      "image/jpeg": "[encoded data removed]",
      "image/png": "[encoded data removed]",
      "text/plain": [
       "<PIL.Image.Image image mode=RGB size=300x300>"
      ]
     },
     "metadata": {},
     "output_type": "display_data"
    }
   ],
   "source": [
    "import numpy as np\n",
    "from PIL import Image\n",
    "from scipy.ndimage import convolve\n",
    "\n",
    "im = np.full((300, 300, 3), 0, dtype=np.uint8)\n",
    "\n",
    "def draw_star(x, y, sigma, size):\n",
    "    star = np.zeros((size, size))\n",
    "    for i in range(size):\n",
    "        for j in range(size):\n",
    "            dx = i - x\n",
    "            dy = j - y\n",
    "            star[i, j] = np.exp(-(dx**2 + dy**2) / (2 * sigma**2))\n",
    "            \n",
    "    star *=  255  \n",
    "    for i in range(size):\n",
    "        for j in range(size):\n",
    "            flux = star[i,j]\n",
    "            draw_dot(i,j,(flux,flux,flux))\n",
    "          \n",
    "\n",
    "draw_star(150, 150, sigma=30, size=300)\n",
    "im = Image.fromarray(im)\n",
    "display(im)"
   ]
  },
  {
   "cell_type": "code",
   "execution_count": 1,
   "id": "9f2fd573-2e0a-40ef-8d25-89772ff6401f",
   "metadata": {},
   "outputs": [
    {
     "ename": "SyntaxError",
     "evalue": "positional argument follows keyword argument (2619247904.py, line 8)",
     "output_type": "error",
     "traceback": [
      "\u001b[0;36m  Cell \u001b[0;32mIn[1], line 8\u001b[0;36m\u001b[0m\n\u001b[0;31m    draw_star(x, y, sigma=20, size)\u001b[0m\n\u001b[0m                                  ^\u001b[0m\n\u001b[0;31mSyntaxError\u001b[0m\u001b[0;31m:\u001b[0m positional argument follows keyword argument\n"
     ]
    }
   ],
   "source": [
    "\n",
    "im = np.full((500, 500, 3), 0, dtype=np.uint8)\n",
    "\n",
    "for _ in range(2):\n",
    "    size = np.random.randint(20,500)\n",
    "    x = size // 2\n",
    "    y = size // 2\n",
    "    #sigma=np.random.randint(size)\n",
    "    draw_star(x, y, sigma=20, size=)\n",
    "    \n",
    "im = Image.fromarray(im)\n",
    "display(im)"
   ]
  },
  {
   "cell_type": "code",
   "execution_count": null,
   "id": "45c5a6ef-2dc9-4acd-abc6-a7968949291c",
   "metadata": {},
   "outputs": [],
   "source": []
  }
 ],
 "metadata": {
  "kernelspec": {
   "display_name": "Python 3 (ipykernel)",
   "language": "python",
   "name": "python3"
  },
  "language_info": {
   "codemirror_mode": {
    "name": "ipython",
    "version": 3
   },
   "file_extension": ".py",
   "mimetype": "text/x-python",
   "name": "python",
   "nbconvert_exporter": "python",
   "pygments_lexer": "ipython3",
   "version": "3.12.7"
  }
 },
 "nbformat": 4,
 "nbformat_minor": 5
}
